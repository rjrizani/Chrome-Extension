{
  "nbformat": 4,
  "nbformat_minor": 0,
  "metadata": {
    "colab": {
      "name": "synthetic_features_and_outliers.ipynb",
      "provenance": [],
      "collapsed_sections": [
        "JndnmDMp66FL",
        "i5Ul3zf5QYvW",
        "jByCP8hDRZmM",
        "WvgxW0bUSC-c"
      ],
      "include_colab_link": true
    },
    "kernelspec": {
      "name": "python3",
      "display_name": "Python 3"
    }
  },
  "cells": [
    {
      "cell_type": "markdown",
      "metadata": {
        "id": "view-in-github",
        "colab_type": "text"
      },
      "source": [
        "<a href=\"https://colab.research.google.com/github/rjrizani/Chrome-Extension/blob/master/synthetic_features_and_outliers.ipynb\" target=\"_parent\"><img src=\"https://colab.research.google.com/assets/colab-badge.svg\" alt=\"Open In Colab\"/></a>"
      ]
    },
    {
      "cell_type": "markdown",
      "metadata": {
        "id": "JndnmDMp66FL"
      },
      "source": [
        "#### Copyright 2017 Google LLC."
      ]
    },
    {
      "cell_type": "code",
      "metadata": {
        "cellView": "both",
        "id": "hMqWDc_m6rUC"
      },
      "source": [
        "# Licensed under the Apache License, Version 2.0 (the \"License\");\n",
        "# you may not use this file except in compliance with the License.\n",
        "# You may obtain a copy of the License at\n",
        "#\n",
        "# https://www.apache.org/licenses/LICENSE-2.0\n",
        "#\n",
        "# Unless required by applicable law or agreed to in writing, software\n",
        "# distributed under the License is distributed on an \"AS IS\" BASIS,\n",
        "# WITHOUT WARRANTIES OR CONDITIONS OF ANY KIND, either express or implied.\n",
        "# See the License for the specific language governing permissions and\n",
        "# limitations under the License."
      ],
      "execution_count": null,
      "outputs": []
    },
    {
      "cell_type": "markdown",
      "metadata": {
        "id": "4f3CKqFUqL2-"
      },
      "source": [
        "# Fitur Sintetis dan Pencilan"
      ]
    },
    {
      "cell_type": "markdown",
      "metadata": {
        "id": "jnKgkN5fHbGy"
      },
      "source": [
        "**Tujuan Pembelajaran:**\n",
        "  * Membuat fitur sintetis yang merupakan rasio dari dua fitur lainnya\n",
        "  * Menggunakan fitur baru ini sebagai masukan untuk model regresi linear\n",
        "  * Meningkatkan efektivitas model dengan mengidentifikasi dan memotong (menghapus) pencilan dari data masukan"
      ]
    },
    {
      "cell_type": "markdown",
      "metadata": {
        "id": "VOpLo5dcHbG0"
      },
      "source": [
        "Mari kita lihat kembali model kita dari latihan Langkah Pertama yang lalu dengan TensorFlow.\n",
        "\n",
        "Pertama, kita akan mengimpor data perumahan di California ke sebuah `DataFrame` *pandas*:"
      ]
    },
    {
      "cell_type": "markdown",
      "metadata": {
        "id": "S8gm6BpqRRuh"
      },
      "source": [
        "## Penyiapan"
      ]
    },
    {
      "cell_type": "code",
      "metadata": {
        "colab": {
          "base_uri": "https://localhost:8080/",
          "height": 438
        },
        "id": "9D8GgUovHbG0",
        "outputId": "c85194cf-0504-44a3-be42-a358711d8419"
      },
      "source": [
        "from __future__ import print_function\n",
        "\n",
        "import math\n",
        "\n",
        "from IPython import display\n",
        "from matplotlib import cm\n",
        "from matplotlib import gridspec\n",
        "import matplotlib.pyplot as plt\n",
        "import numpy as np\n",
        "import pandas as pd\n",
        "import sklearn.metrics as metrics\n",
        "%tensorflow_version 1.x\n",
        "import tensorflow as tf\n",
        "from tensorflow.python.data import Dataset\n",
        "\n",
        "tf.logging.set_verbosity(tf.logging.ERROR)\n",
        "pd.options.display.max_rows = 10\n",
        "pd.options.display.float_format = '{:.1f}'.format\n",
        "\n",
        "california_housing_dataframe = pd.read_csv(\"https://download.mlcc.google.com/mledu-datasets/california_housing_train.csv\", sep=\",\")\n",
        "\n",
        "california_housing_dataframe = california_housing_dataframe.reindex(\n",
        "    np.random.permutation(california_housing_dataframe.index))\n",
        "california_housing_dataframe[\"median_house_value\"] /= 1000.0\n",
        "california_housing_dataframe"
      ],
      "execution_count": 1,
      "outputs": [
        {
          "output_type": "stream",
          "text": [
            "TensorFlow 1.x selected.\n"
          ],
          "name": "stdout"
        },
        {
          "output_type": "execute_result",
          "data": {
            "text/html": [
              "<div>\n",
              "<style scoped>\n",
              "    .dataframe tbody tr th:only-of-type {\n",
              "        vertical-align: middle;\n",
              "    }\n",
              "\n",
              "    .dataframe tbody tr th {\n",
              "        vertical-align: top;\n",
              "    }\n",
              "\n",
              "    .dataframe thead th {\n",
              "        text-align: right;\n",
              "    }\n",
              "</style>\n",
              "<table border=\"1\" class=\"dataframe\">\n",
              "  <thead>\n",
              "    <tr style=\"text-align: right;\">\n",
              "      <th></th>\n",
              "      <th>longitude</th>\n",
              "      <th>latitude</th>\n",
              "      <th>housing_median_age</th>\n",
              "      <th>total_rooms</th>\n",
              "      <th>total_bedrooms</th>\n",
              "      <th>population</th>\n",
              "      <th>households</th>\n",
              "      <th>median_income</th>\n",
              "      <th>median_house_value</th>\n",
              "    </tr>\n",
              "  </thead>\n",
              "  <tbody>\n",
              "    <tr>\n",
              "      <th>14263</th>\n",
              "      <td>-122.1</td>\n",
              "      <td>37.9</td>\n",
              "      <td>35.0</td>\n",
              "      <td>880.0</td>\n",
              "      <td>139.0</td>\n",
              "      <td>352.0</td>\n",
              "      <td>132.0</td>\n",
              "      <td>6.9</td>\n",
              "      <td>406.5</td>\n",
              "    </tr>\n",
              "    <tr>\n",
              "      <th>2681</th>\n",
              "      <td>-117.7</td>\n",
              "      <td>34.1</td>\n",
              "      <td>11.0</td>\n",
              "      <td>7392.0</td>\n",
              "      <td>1796.0</td>\n",
              "      <td>3841.0</td>\n",
              "      <td>1621.0</td>\n",
              "      <td>2.8</td>\n",
              "      <td>163.0</td>\n",
              "    </tr>\n",
              "    <tr>\n",
              "      <th>6095</th>\n",
              "      <td>-118.2</td>\n",
              "      <td>34.2</td>\n",
              "      <td>47.0</td>\n",
              "      <td>1853.0</td>\n",
              "      <td>345.0</td>\n",
              "      <td>757.0</td>\n",
              "      <td>310.0</td>\n",
              "      <td>3.7</td>\n",
              "      <td>422.0</td>\n",
              "    </tr>\n",
              "    <tr>\n",
              "      <th>15962</th>\n",
              "      <td>-122.4</td>\n",
              "      <td>37.7</td>\n",
              "      <td>35.0</td>\n",
              "      <td>2878.0</td>\n",
              "      <td>564.0</td>\n",
              "      <td>1633.0</td>\n",
              "      <td>528.0</td>\n",
              "      <td>4.5</td>\n",
              "      <td>266.9</td>\n",
              "    </tr>\n",
              "    <tr>\n",
              "      <th>10791</th>\n",
              "      <td>-120.7</td>\n",
              "      <td>35.3</td>\n",
              "      <td>16.0</td>\n",
              "      <td>164.0</td>\n",
              "      <td>30.0</td>\n",
              "      <td>542.0</td>\n",
              "      <td>32.0</td>\n",
              "      <td>1.7</td>\n",
              "      <td>42.5</td>\n",
              "    </tr>\n",
              "    <tr>\n",
              "      <th>...</th>\n",
              "      <td>...</td>\n",
              "      <td>...</td>\n",
              "      <td>...</td>\n",
              "      <td>...</td>\n",
              "      <td>...</td>\n",
              "      <td>...</td>\n",
              "      <td>...</td>\n",
              "      <td>...</td>\n",
              "      <td>...</td>\n",
              "    </tr>\n",
              "    <tr>\n",
              "      <th>321</th>\n",
              "      <td>-116.9</td>\n",
              "      <td>32.7</td>\n",
              "      <td>13.0</td>\n",
              "      <td>3268.0</td>\n",
              "      <td>491.0</td>\n",
              "      <td>1431.0</td>\n",
              "      <td>503.0</td>\n",
              "      <td>5.8</td>\n",
              "      <td>259.9</td>\n",
              "    </tr>\n",
              "    <tr>\n",
              "      <th>165</th>\n",
              "      <td>-116.2</td>\n",
              "      <td>33.7</td>\n",
              "      <td>17.0</td>\n",
              "      <td>4874.0</td>\n",
              "      <td>1349.0</td>\n",
              "      <td>5032.0</td>\n",
              "      <td>1243.0</td>\n",
              "      <td>2.4</td>\n",
              "      <td>90.0</td>\n",
              "    </tr>\n",
              "    <tr>\n",
              "      <th>5329</th>\n",
              "      <td>-118.2</td>\n",
              "      <td>34.2</td>\n",
              "      <td>37.0</td>\n",
              "      <td>1997.0</td>\n",
              "      <td>361.0</td>\n",
              "      <td>1037.0</td>\n",
              "      <td>363.0</td>\n",
              "      <td>3.8</td>\n",
              "      <td>210.3</td>\n",
              "    </tr>\n",
              "    <tr>\n",
              "      <th>2898</th>\n",
              "      <td>-117.8</td>\n",
              "      <td>34.0</td>\n",
              "      <td>13.0</td>\n",
              "      <td>984.0</td>\n",
              "      <td>127.0</td>\n",
              "      <td>364.0</td>\n",
              "      <td>119.0</td>\n",
              "      <td>7.6</td>\n",
              "      <td>426.9</td>\n",
              "    </tr>\n",
              "    <tr>\n",
              "      <th>516</th>\n",
              "      <td>-117.0</td>\n",
              "      <td>32.7</td>\n",
              "      <td>15.0</td>\n",
              "      <td>3660.0</td>\n",
              "      <td>622.0</td>\n",
              "      <td>2629.0</td>\n",
              "      <td>612.0</td>\n",
              "      <td>4.0</td>\n",
              "      <td>150.1</td>\n",
              "    </tr>\n",
              "  </tbody>\n",
              "</table>\n",
              "<p>17000 rows × 9 columns</p>\n",
              "</div>"
            ],
            "text/plain": [
              "       longitude  latitude  ...  median_income  median_house_value\n",
              "14263     -122.1      37.9  ...            6.9               406.5\n",
              "2681      -117.7      34.1  ...            2.8               163.0\n",
              "6095      -118.2      34.2  ...            3.7               422.0\n",
              "15962     -122.4      37.7  ...            4.5               266.9\n",
              "10791     -120.7      35.3  ...            1.7                42.5\n",
              "...          ...       ...  ...            ...                 ...\n",
              "321       -116.9      32.7  ...            5.8               259.9\n",
              "165       -116.2      33.7  ...            2.4                90.0\n",
              "5329      -118.2      34.2  ...            3.8               210.3\n",
              "2898      -117.8      34.0  ...            7.6               426.9\n",
              "516       -117.0      32.7  ...            4.0               150.1\n",
              "\n",
              "[17000 rows x 9 columns]"
            ]
          },
          "metadata": {
            "tags": []
          },
          "execution_count": 0
        }
      ]
    },
    {
      "cell_type": "markdown",
      "metadata": {
        "id": "I6kNgrwCO_ms"
      },
      "source": [
        "Selanjutnya, kita akan menyiapkan fungsi masukan dan mendefinisikan fungsi untuk pelatihan model:"
      ]
    },
    {
      "cell_type": "code",
      "metadata": {
        "id": "5RpTJER9XDub"
      },
      "source": [
        "def my_input_fn(features, targets, batch_size=1, shuffle=True, num_epochs=None):\n",
        "    \"\"\"Trains a linear regression model of one feature.\n",
        "  \n",
        "    Args:\n",
        "      features: pandas DataFrame of features\n",
        "      targets: pandas DataFrame of targets\n",
        "      batch_size: Size of batches to be passed to the model\n",
        "      shuffle: True or False. Whether to shuffle the data.\n",
        "      num_epochs: Number of epochs for which data should be repeated. None = repeat indefinitely\n",
        "    Returns:\n",
        "      Tuple of (features, labels) for next data batch\n",
        "    \"\"\"\n",
        "    \n",
        "    # Convert pandas data into a dict of np arrays.\n",
        "    features = {key:np.array(value) for key,value in dict(features).items()}                                           \n",
        " \n",
        "    # Construct a dataset, and configure batching/repeating.\n",
        "    ds = Dataset.from_tensor_slices((features,targets)) # warning: 2GB limit\n",
        "    ds = ds.batch(batch_size).repeat(num_epochs)\n",
        "    \n",
        "    # Shuffle the data, if specified.\n",
        "    if shuffle:\n",
        "      ds = ds.shuffle(buffer_size=10000)\n",
        "    \n",
        "    # Return the next batch of data.\n",
        "    features, labels = ds.make_one_shot_iterator().get_next()\n",
        "    return features, labels"
      ],
      "execution_count": null,
      "outputs": []
    },
    {
      "cell_type": "code",
      "metadata": {
        "id": "VgQPftrpHbG3"
      },
      "source": [
        "def train_model(learning_rate, steps, batch_size, input_feature):\n",
        "  \"\"\"Trains a linear regression model.\n",
        "  \n",
        "  Args:\n",
        "    learning_rate: A `float`, the learning rate.\n",
        "    steps: A non-zero `int`, the total number of training steps. A training step\n",
        "      consists of a forward and backward pass using a single batch.\n",
        "    batch_size: A non-zero `int`, the batch size.\n",
        "    input_feature: A `string` specifying a column from `california_housing_dataframe`\n",
        "      to use as input feature.\n",
        "      \n",
        "  Returns:\n",
        "    A Pandas `DataFrame` containing targets and the corresponding predictions done\n",
        "    after training the model.\n",
        "  \"\"\"\n",
        "  \n",
        "  periods = 10\n",
        "  steps_per_period = steps / periods\n",
        "\n",
        "  my_feature = input_feature\n",
        "  my_feature_data = california_housing_dataframe[[my_feature]].astype('float32')\n",
        "  my_label = \"median_house_value\"\n",
        "  targets = california_housing_dataframe[my_label].astype('float32')\n",
        "\n",
        "  # Create input functions.\n",
        "  training_input_fn = lambda: my_input_fn(my_feature_data, targets, batch_size=batch_size)\n",
        "  predict_training_input_fn = lambda: my_input_fn(my_feature_data, targets, num_epochs=1, shuffle=False)\n",
        "  \n",
        "  # Create feature columns.\n",
        "  feature_columns = [tf.feature_column.numeric_column(my_feature)]\n",
        "    \n",
        "  # Create a linear regressor object.\n",
        "  my_optimizer = tf.train.GradientDescentOptimizer(learning_rate=learning_rate)\n",
        "  my_optimizer = tf.contrib.estimator.clip_gradients_by_norm(my_optimizer, 5.0)\n",
        "  linear_regressor = tf.estimator.LinearRegressor(\n",
        "      feature_columns=feature_columns,\n",
        "      optimizer=my_optimizer\n",
        "  )\n",
        "\n",
        "  # Set up to plot the state of our model's line each period.\n",
        "  plt.figure(figsize=(15, 6))\n",
        "  plt.subplot(1, 2, 1)\n",
        "  plt.title(\"Learned Line by Period\")\n",
        "  plt.ylabel(my_label)\n",
        "  plt.xlabel(my_feature)\n",
        "  sample = california_housing_dataframe.sample(n=300)\n",
        "  plt.scatter(sample[my_feature], sample[my_label])\n",
        "  colors = [cm.coolwarm(x) for x in np.linspace(-1, 1, periods)]\n",
        "\n",
        "  # Train the model, but do so inside a loop so that we can periodically assess\n",
        "  # loss metrics.\n",
        "  print(\"Training model...\")\n",
        "  print(\"RMSE (on training data):\")\n",
        "  root_mean_squared_errors = []\n",
        "  for period in range (0, periods):\n",
        "    # Train the model, starting from the prior state.\n",
        "    linear_regressor.train(\n",
        "        input_fn=training_input_fn,\n",
        "        steps=steps_per_period,\n",
        "    )\n",
        "    # Take a break and compute predictions.\n",
        "    predictions = linear_regressor.predict(input_fn=predict_training_input_fn)\n",
        "    predictions = np.array([item['predictions'][0] for item in predictions])\n",
        "    \n",
        "    # Compute loss.\n",
        "    root_mean_squared_error = math.sqrt(\n",
        "      metrics.mean_squared_error(predictions, targets))\n",
        "    # Occasionally print the current loss.\n",
        "    print(\"  period %02d : %0.2f\" % (period, root_mean_squared_error))\n",
        "    # Add the loss metrics from this period to our list.\n",
        "    root_mean_squared_errors.append(root_mean_squared_error)\n",
        "    # Finally, track the weights and biases over time.\n",
        "    # Apply some math to ensure that the data and line are plotted neatly.\n",
        "    y_extents = np.array([0, sample[my_label].max()])\n",
        "    \n",
        "    weight = linear_regressor.get_variable_value('linear/linear_model/%s/weights' % input_feature)[0]\n",
        "    bias = linear_regressor.get_variable_value('linear/linear_model/bias_weights')\n",
        "    \n",
        "    x_extents = (y_extents - bias) / weight\n",
        "    x_extents = np.maximum(np.minimum(x_extents,\n",
        "                                      sample[my_feature].max()),\n",
        "                           sample[my_feature].min())\n",
        "    y_extents = weight * x_extents + bias\n",
        "    plt.plot(x_extents, y_extents, color=colors[period]) \n",
        "  print(\"Model training finished.\")\n",
        "\n",
        "  # Output a graph of loss metrics over periods.\n",
        "  plt.subplot(1, 2, 2)\n",
        "  plt.ylabel('RMSE')\n",
        "  plt.xlabel('Periods')\n",
        "  plt.title(\"Root Mean Squared Error vs. Periods\")\n",
        "  plt.tight_layout()\n",
        "  plt.plot(root_mean_squared_errors)\n",
        "\n",
        "  # Create a table with calibration data.\n",
        "  calibration_data = pd.DataFrame()\n",
        "  calibration_data[\"predictions\"] = pd.Series(predictions)\n",
        "  calibration_data[\"targets\"] = pd.Series(targets)\n",
        "  display.display(calibration_data.describe())\n",
        "\n",
        "  print(\"Final RMSE (on training data): %0.2f\" % root_mean_squared_error)\n",
        "  \n",
        "  return calibration_data"
      ],
      "execution_count": null,
      "outputs": []
    },
    {
      "cell_type": "markdown",
      "metadata": {
        "id": "FJ6xUNVRm-do"
      },
      "source": [
        "## Tugas 1: Cobalah Fitur Sintetis\n",
        "\n",
        "Fitur `total_rooms` dan `population` menghitung jumlah total dari blok kota tertentu.\n",
        "\n",
        "Namun, bagaimana jika satu blok kota memiliki tingkat kepadatan penduduk yang lebih tinggi daripada kota lainnya? Kita dapat melihat hubungan kepadatan blok dan median nilai rumah dengan membuat fitur sintetis yang merupakan rasio `total_rooms` dan `population`.\n",
        "\n",
        "Dalam sel di bawah, buatlah fitur dengan nama `rooms_per_person`, lalu gunakan fitur tersebut sebagai `input_feature` untuk `train_model()`.\n",
        "\n",
        "Apa performa terbaik yang bisa Anda dapatkan menggunakan satu fitur ini dengan mengubah kecepatan pembelajaran? (Semakin baik performanya, maka semakin baik pula kesesuaian garis regresi dengan data, dan semakin rendah pula nilai GARK-nya)."
      ]
    },
    {
      "cell_type": "markdown",
      "metadata": {
        "id": "isONN2XK32Wo"
      },
      "source": [
        "**CATATAN**: Anda mungkin terbantu dengan menambahkan beberapa sel di bawah sehingga Anda dapat mencoba beberapa kecepatan pembelajaran yang berbeda dan membandingkan hasilnya. Untuk menambahkan sel kode baru, arahkan kursor tepat di bawah pusat sel ini, lalu klik **KODE**."
      ]
    },
    {
      "cell_type": "code",
      "metadata": {
        "cellView": "both",
        "colab": {},
        "id": "5ihcVutnnu1D"
      },
      "source": [
        "#\n",
        "# YOUR CODE HERE\n",
        "#\n",
        "california_housing_dataframe[\"rooms_per_person\"] =\n",
        "\n",
        "calibration_data = train_model(\n",
        "    learning_rate=0.00005,\n",
        "    steps=500,\n",
        "    batch_size=5,\n",
        "    input_feature=\"rooms_per_person\"\n",
        ")"
      ],
      "execution_count": null,
      "outputs": []
    },
    {
      "cell_type": "markdown",
      "metadata": {
        "id": "i5Ul3zf5QYvW"
      },
      "source": [
        "### Solusi\n",
        "\n",
        "Klik di bawah untuk mendapatkan solusinya."
      ]
    },
    {
      "cell_type": "code",
      "metadata": {
        "id": "Leaz2oYMQcBf"
      },
      "source": [
        "california_housing_dataframe[\"rooms_per_person\"] = (\n",
        "    california_housing_dataframe[\"total_rooms\"] / california_housing_dataframe[\"population\"])\n",
        "\n",
        "calibration_data = train_model(\n",
        "    learning_rate=0.05,\n",
        "    steps=500,\n",
        "    batch_size=5,\n",
        "    input_feature=\"rooms_per_person\")"
      ],
      "execution_count": null,
      "outputs": []
    },
    {
      "cell_type": "markdown",
      "metadata": {
        "id": "ZjQrZ8mcHFiU"
      },
      "source": [
        "## Tugas 2: Identifikasi Pencilan\n",
        "\n",
        "Kita dapat menggambarkan performa model dengan membuat bagan sebar dari prediksi vs. nilai target. Idealnya, prediksi dan nilai target akan berada pada garis diagonal yang berkorelasi dengan sempurna.\n",
        "\n",
        "Gunakan [`scatter()`](https://matplotlib.org/gallery/shapes_and_collections/scatter.html) Pyplot untuk membuat bagan sebar dari prediksi vs. target, dengan menggunakan model rooms_per_person yang telah dilatih di Tugas 1.\n",
        "\n",
        "Apakah Anda melihat ada kejanggalan? telusuri kejanggalan-kejanggalan kembali ke sumber data dengan melihat distribusi nilai di `rooms_per_person`."
      ]
    },
    {
      "cell_type": "code",
      "metadata": {
        "id": "P0BDOec4HbG_"
      },
      "source": [
        "# YOUR CODE HERE"
      ],
      "execution_count": null,
      "outputs": []
    },
    {
      "cell_type": "markdown",
      "metadata": {
        "id": "jByCP8hDRZmM"
      },
      "source": [
        "### Solusi\n",
        "\n",
        "Klik di bawah untuk mendapatkan solusinya."
      ]
    },
    {
      "cell_type": "code",
      "metadata": {
        "id": "s0tiX2gdRe-S"
      },
      "source": [
        "plt.figure(figsize=(15, 6))\n",
        "plt.subplot(1, 2, 1)\n",
        "plt.scatter(calibration_data[\"predictions\"], calibration_data[\"targets\"])"
      ],
      "execution_count": null,
      "outputs": []
    },
    {
      "cell_type": "markdown",
      "metadata": {
        "id": "kMQD0Uq3RqTX"
      },
      "source": [
        "Data kalibrasi menunjukkan bahwa sebagian besar titik sebar sejajar dengan garis. Garis tersebut hampir vertikal, tetapi kita akan membahasnya lagi nanti. Untuk saat ini, mari fokus pada titik yang menyimpang dari garis. Dapat dilihat bahwa titik yang menyimpang jumlahnya relatif sedikit.\n",
        "\n",
        "Jika menggambarkan histogram `rooms_per_person`, kita akan melihat bahwa ada beberapa pencilan dalam data masukan:"
      ]
    },
    {
      "cell_type": "code",
      "metadata": {
        "id": "POTM8C_ER1Oc"
      },
      "source": [
        "plt.subplot(1, 2, 2)\n",
        "_ = california_housing_dataframe[\"rooms_per_person\"].hist()"
      ],
      "execution_count": null,
      "outputs": []
    },
    {
      "cell_type": "markdown",
      "metadata": {
        "id": "9l0KYpBQu8ed"
      },
      "source": [
        "## Tugas 3: Potong Pencilan\n",
        "\n",
        "Lihat apakah kesesuaian model dapat ditingkatkan lebih lanjut dengan menyetel nilai pencilan dari `rooms_per_person` ke beberapa nilai maksimum atau minimum yang wajar.\n",
        "\n",
        "Untuk referensi, berikut contoh singkat tentang cara menerapkan fungsi ke `Series` Pandas:\n",
        "\n",
        "    clipped_feature = my_dataframe[\"my_feature_name\"].apply(lambda x: max(x, 0))\n",
        "\n",
        "`clipped_feature` di atas tidak akan memiliki nilai yang kurang dari `0`."
      ]
    },
    {
      "cell_type": "code",
      "metadata": {
        "id": "rGxjRoYlHbHC"
      },
      "source": [
        "# YOUR CODE HERE"
      ],
      "execution_count": null,
      "outputs": []
    },
    {
      "cell_type": "markdown",
      "metadata": {
        "id": "WvgxW0bUSC-c"
      },
      "source": [
        "### Solusi\n",
        "\n",
        "Klik di bawah untuk mendapatkan solusinya."
      ]
    },
    {
      "cell_type": "markdown",
      "metadata": {
        "id": "8YGNjXPaSMPV"
      },
      "source": [
        "Histogram yang kita buat di Tugas 2 menunjukkan bahwa sebagian besar nilainya kurang dari `5`. Mari kita potong nilai `rooms_per_person` ke angka 5, dan gambarkan histogram untuk memeriksa kembali hasilnya."
      ]
    },
    {
      "cell_type": "code",
      "metadata": {
        "id": "9YyARz6gSR7Q"
      },
      "source": [
        "california_housing_dataframe[\"rooms_per_person\"] = (\n",
        "    california_housing_dataframe[\"rooms_per_person\"]).apply(lambda x: min(x, 5))\n",
        "\n",
        "_ = california_housing_dataframe[\"rooms_per_person\"].hist()"
      ],
      "execution_count": null,
      "outputs": []
    },
    {
      "cell_type": "markdown",
      "metadata": {
        "id": "vO0e1p_aSgKA"
      },
      "source": [
        "Untuk memverifikasi bahwa pemotongan berfungsi, mari kita latih dan cetak data kalibrasi sekali lagi:"
      ]
    },
    {
      "cell_type": "code",
      "metadata": {
        "id": "ZgSP2HKfSoOH"
      },
      "source": [
        "calibration_data = train_model(\n",
        "    learning_rate=0.05,\n",
        "    steps=500,\n",
        "    batch_size=5,\n",
        "    input_feature=\"rooms_per_person\")"
      ],
      "execution_count": null,
      "outputs": []
    },
    {
      "cell_type": "code",
      "metadata": {
        "id": "gySE-UgfSony"
      },
      "source": [
        "_ = plt.scatter(calibration_data[\"predictions\"], calibration_data[\"targets\"])"
      ],
      "execution_count": null,
      "outputs": []
    }
  ]
}